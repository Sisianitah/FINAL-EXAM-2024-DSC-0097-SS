{
 "cells": [
  {
   "cell_type": "code",
   "execution_count": 24,
   "id": "94679cfd-40b2-4fe9-8b94-d178ee8ad57f",
   "metadata": {},
   "outputs": [],
   "source": [
    "# NO . 4"
   ]
  },
  {
   "cell_type": "code",
   "execution_count": 25,
   "id": "1b774d31-0e2e-42b8-9573-a56a4458fa0c",
   "metadata": {},
   "outputs": [],
   "source": [
    "# Bonus Question."
   ]
  },
  {
   "cell_type": "code",
   "execution_count": 26,
   "id": "d8b340e9-e85f-4d66-9f77-e481f13cc6e3",
   "metadata": {},
   "outputs": [],
   "source": [
    "import numpy as np"
   ]
  },
  {
   "cell_type": "code",
   "execution_count": null,
   "id": "0532fe89-fb3f-43d6-8f08-3367a67d8de8",
   "metadata": {},
   "outputs": [],
   "source": []
  },
  {
   "cell_type": "code",
   "execution_count": 27,
   "id": "61ee0e8c-9d34-4897-bb6f-644e25c5dd9b",
   "metadata": {},
   "outputs": [],
   "source": [
    "# a) Multiply a 5x3 matrix by a 3x2 matrix (real matrix product) (Hint: create a 5x3 and 3x2 matrices\n",
    "#    and peform matrix multiplication)."
   ]
  },
  {
   "cell_type": "code",
   "execution_count": 28,
   "id": "a34b5a5a-5bbb-4fef-a277-256706f2eca2",
   "metadata": {},
   "outputs": [
    {
     "name": "stdout",
     "output_type": "stream",
     "text": [
      "[[1 2 3]\n",
      " [2 3 1]\n",
      " [2 1 3]\n",
      " [3 1 2]\n",
      " [3 2 1]]\n"
     ]
    }
   ],
   "source": [
    "A = np.array([[1, 2, 3], [2, 3, 1], [2, 1, 3], [3, 1, 2] , [3, 2, 1]])\n",
    "print(A)"
   ]
  },
  {
   "cell_type": "code",
   "execution_count": 29,
   "id": "d18a9494-1d7d-4cea-a5b4-78d28e9da212",
   "metadata": {},
   "outputs": [
    {
     "name": "stdout",
     "output_type": "stream",
     "text": [
      "[[1 2]\n",
      " [1 3]\n",
      " [2 3]]\n"
     ]
    }
   ],
   "source": [
    "B = np.array([[1, 2], [1, 3], [2, 3]])\n",
    "print(B)"
   ]
  },
  {
   "cell_type": "code",
   "execution_count": 30,
   "id": "b692da84-8f5c-41c9-95ab-2ce165a47e38",
   "metadata": {},
   "outputs": [
    {
     "name": "stdout",
     "output_type": "stream",
     "text": [
      "[[ 9 17]\n",
      " [ 7 16]\n",
      " [ 9 16]\n",
      " [ 8 15]\n",
      " [ 7 15]]\n"
     ]
    }
   ],
   "source": [
    "\n",
    "multiply= np.dot(A, B)\n",
    "print(multiply)"
   ]
  },
  {
   "cell_type": "code",
   "execution_count": null,
   "id": "92a7a4ec-da6b-424c-8dc6-65077f5e48a9",
   "metadata": {},
   "outputs": [],
   "source": []
  },
  {
   "cell_type": "code",
   "execution_count": 31,
   "id": "33e194b6-81f5-4bcc-a72b-6c0c852dd1df",
   "metadata": {},
   "outputs": [],
   "source": [
    "# b) Create a 3x3 identity matrix"
   ]
  },
  {
   "cell_type": "code",
   "execution_count": 32,
   "id": "f60d7a2d-5d7a-4c7b-981a-83b80b236e3b",
   "metadata": {},
   "outputs": [
    {
     "name": "stdout",
     "output_type": "stream",
     "text": [
      "[[1. 0. 0.]\n",
      " [0. 1. 0.]\n",
      " [0. 0. 1.]]\n"
     ]
    }
   ],
   "source": [
    "identity_A = np.eye(3)\n",
    "\n",
    "print(identity_A)"
   ]
  },
  {
   "cell_type": "code",
   "execution_count": null,
   "id": "d556e770-9404-4106-aa47-03bb2a4def28",
   "metadata": {},
   "outputs": [],
   "source": []
  },
  {
   "cell_type": "code",
   "execution_count": null,
   "id": "3f7a92ac-0e46-4a68-94ab-b3d2808a308a",
   "metadata": {},
   "outputs": [],
   "source": []
  },
  {
   "cell_type": "code",
   "execution_count": 33,
   "id": "7209def3-7c13-4a09-b101-a009f2b88f88",
   "metadata": {},
   "outputs": [],
   "source": [
    "# c) Create a vector with values ranging from 10 to 49)."
   ]
  },
  {
   "cell_type": "code",
   "execution_count": 34,
   "id": "5bbb405a-f592-4207-ac70-99331d37abe4",
   "metadata": {},
   "outputs": [
    {
     "name": "stdout",
     "output_type": "stream",
     "text": [
      "[10 11 12 13 14 15 16 17 18 19 20 21 22 23 24 25 26 27 28 29 30 31 32 33\n",
      " 34 35 36 37 38 39 40 41 42 43 44 45 46 47 48 49]\n"
     ]
    }
   ],
   "source": [
    "vector = np.arange(10, 50)\n",
    "print(vector)"
   ]
  },
  {
   "cell_type": "code",
   "execution_count": null,
   "id": "e7929385-7064-4efa-9a66-7d58270b6ce1",
   "metadata": {},
   "outputs": [],
   "source": []
  },
  {
   "cell_type": "code",
   "execution_count": null,
   "id": "9e5eac12-1955-43f4-aada-8f3ea42c6cf8",
   "metadata": {},
   "outputs": [],
   "source": []
  },
  {
   "cell_type": "code",
   "execution_count": 35,
   "id": "7b54fec5-b466-499e-84cf-c82b1a0dabbe",
   "metadata": {},
   "outputs": [],
   "source": [
    "# d) Create a null vector of size 10."
   ]
  },
  {
   "cell_type": "code",
   "execution_count": 36,
   "id": "a6e2ecdd-22be-4e2d-a4a1-6d9a92682864",
   "metadata": {},
   "outputs": [
    {
     "name": "stdout",
     "output_type": "stream",
     "text": [
      "[0. 0. 0. 0. 0. 0. 0. 0. 0. 0.]\n"
     ]
    }
   ],
   "source": [
    "null_vector = np.zeros(10)\n",
    "print(null_vector)"
   ]
  },
  {
   "cell_type": "code",
   "execution_count": null,
   "id": "46e3fea8-b1bb-49ac-9d04-14ad1e5ba0c9",
   "metadata": {},
   "outputs": [],
   "source": []
  },
  {
   "cell_type": "code",
   "execution_count": 37,
   "id": "114589fe-ff99-4e51-a3a0-c125989b3e17",
   "metadata": {},
   "outputs": [],
   "source": [
    "# e) Create a 3x3x3 array with random values"
   ]
  },
  {
   "cell_type": "code",
   "execution_count": 38,
   "id": "7e203d9a-213e-4575-832e-60aa71f0355b",
   "metadata": {},
   "outputs": [
    {
     "name": "stdout",
     "output_type": "stream",
     "text": [
      "[[[0.91913922 0.00602315 0.55910163]\n",
      "  [0.6180313  0.77720757 0.46091874]\n",
      "  [0.95283374 0.89644891 0.83060037]]\n",
      "\n",
      " [[0.00267715 0.10933084 0.70557515]\n",
      "  [0.08534467 0.29645174 0.67352402]\n",
      "  [0.56344663 0.18250377 0.88661724]]\n",
      "\n",
      " [[0.76330801 0.73794164 0.15563067]\n",
      "  [0.66127096 0.42927778 0.25262584]\n",
      "  [0.92112096 0.37202197 0.14774636]]]\n"
     ]
    }
   ],
   "source": [
    "random_array = np.random.rand(3, 3, 3)\n",
    "print(random_array)"
   ]
  },
  {
   "cell_type": "code",
   "execution_count": null,
   "id": "33608651-82d7-4be2-8ff3-fecb7e39ef1b",
   "metadata": {},
   "outputs": [],
   "source": []
  },
  {
   "cell_type": "code",
   "execution_count": null,
   "id": "1a7ad0df-9070-4911-871d-13cb4ceb76c8",
   "metadata": {},
   "outputs": [],
   "source": []
  },
  {
   "cell_type": "code",
   "execution_count": 39,
   "id": "94b367da-1d61-4c00-aee9-db1839f55b9e",
   "metadata": {},
   "outputs": [],
   "source": [
    "# f) Create a 5x5 matrix with values 1,2,3,4 just below the diagonal"
   ]
  },
  {
   "cell_type": "code",
   "execution_count": 40,
   "id": "10edf086-1374-4e09-a63e-e4cae0fae539",
   "metadata": {},
   "outputs": [
    {
     "name": "stdout",
     "output_type": "stream",
     "text": [
      "[[0 0 0 0 0]\n",
      " [1 0 0 0 0]\n",
      " [1 2 0 0 0]\n",
      " [1 2 3 0 0]\n",
      " [1 2 3 4 0]]\n"
     ]
    }
   ],
   "source": [
    "A= np.array([[0,0,0,0,0],[1,0,0,0,0],[1,2,0,0,0],[1,2,3,0,0],[1,2,3,4,0]])\n",
    "print(A)"
   ]
  },
  {
   "cell_type": "code",
   "execution_count": null,
   "id": "e2351b50-5dec-44cb-9b86-3f7bf97f5c24",
   "metadata": {},
   "outputs": [],
   "source": []
  },
  {
   "cell_type": "code",
   "execution_count": null,
   "id": "85033d6a-8810-47d6-848f-de3438d0a783",
   "metadata": {},
   "outputs": [],
   "source": []
  },
  {
   "cell_type": "code",
   "execution_count": 41,
   "id": "e25c0e73-b2bc-4461-9c30-39d517b8fddb",
   "metadata": {},
   "outputs": [],
   "source": [
    "# g) Normalize a 5x5 random matrix"
   ]
  },
  {
   "cell_type": "code",
   "execution_count": 42,
   "id": "19dfb331-807f-4d48-b936-c531e0af2a53",
   "metadata": {},
   "outputs": [
    {
     "name": "stdout",
     "output_type": "stream",
     "text": [
      "[[0.29377922 0.21173653 0.55635008 0.46604782 0.58008989]\n",
      " [0.42534672 0.84070806 0.77913233 0.19002322 0.64350357]\n",
      " [0.67987002 0.31052662 0.46211475 0.79925622 0.51384657]\n",
      " [0.5306472  0.71981543 1.         0.64553085 0.27767888]\n",
      " [0.66790344 0.29600493 0.09893067 0.         0.2511848 ]]\n"
     ]
    }
   ],
   "source": [
    "random_matrix = np.random.rand(5, 5)\n",
    "normalized_matrix = (random_matrix - random_matrix.min()) / (random_matrix.max() - random_matrix.min())\n",
    "print(normalized_matrix)"
   ]
  },
  {
   "cell_type": "code",
   "execution_count": null,
   "id": "a56df586-8210-4de3-893d-57cc9cbdf274",
   "metadata": {},
   "outputs": [],
   "source": []
  },
  {
   "cell_type": "code",
   "execution_count": null,
   "id": "f553ad7d-67aa-4663-92ff-82651a8af599",
   "metadata": {},
   "outputs": [],
   "source": []
  },
  {
   "cell_type": "code",
   "execution_count": 43,
   "id": "6725c809-9afd-4da3-a189-3100c414dc9c",
   "metadata": {},
   "outputs": [],
   "source": [
    "# h) How to get the dates of yesterday, today and tomorrow?"
   ]
  },
  {
   "cell_type": "code",
   "execution_count": 45,
   "id": "110b48fe-4796-41e7-9fce-f3a5502da596",
   "metadata": {},
   "outputs": [
    {
     "name": "stdout",
     "output_type": "stream",
     "text": [
      "Yesterday: 2024-12-12\n",
      "Today: 2024-12-13\n",
      "Tomorrow: 2024-12-14\n"
     ]
    }
   ],
   "source": [
    "today = np.datetime64('today', 'D') # TODAY'S DATE\n",
    "\n",
    "yesterday = today - np.timedelta64(1, 'D') # YESTERDAY'S DATE\n",
    "\n",
    "tomorrow = today + np.timedelta64(1, 'D') # TOMORROWS DATE\n",
    "\n",
    "print(\"Yesterday:\", yesterday)\n",
    "print(\"Today:\", today)\n",
    "print(\"Tomorrow:\", tomorrow)"
   ]
  },
  {
   "cell_type": "code",
   "execution_count": null,
   "id": "af4db6dd-94ec-48ed-a852-7a11eee3754b",
   "metadata": {},
   "outputs": [],
   "source": []
  },
  {
   "cell_type": "code",
   "execution_count": null,
   "id": "def46362-a43d-4dda-b292-c73dd4bfb3ab",
   "metadata": {},
   "outputs": [],
   "source": []
  },
  {
   "cell_type": "code",
   "execution_count": 46,
   "id": "33805339-d5a9-4e3d-a943-a1b6b33f848e",
   "metadata": {},
   "outputs": [],
   "source": [
    "# i) Find indices of non-zero elements from [1,2,0,0,4,0]. In all the above questions explain your\n",
    "#    approach."
   ]
  },
  {
   "cell_type": "code",
   "execution_count": 48,
   "id": "5b1cb9e2-9f3f-4d86-9bb0-d1630afe3fb9",
   "metadata": {},
   "outputs": [
    {
     "name": "stdout",
     "output_type": "stream",
     "text": [
      "(array([0, 1, 4]),)\n"
     ]
    }
   ],
   "source": [
    "array = np.array([1, 2, 0, 0, 4, 0])\n",
    "\n",
    "non_zero_indices = np.nonzero(array)\n",
    "\n",
    "print(non_zero_indices)"
   ]
  },
  {
   "cell_type": "code",
   "execution_count": null,
   "id": "00c1a461-478b-4a61-8600-94b3b848b370",
   "metadata": {},
   "outputs": [],
   "source": []
  },
  {
   "cell_type": "code",
   "execution_count": null,
   "id": "73f50a45-6509-4d7a-9f5c-38de30ff27f3",
   "metadata": {},
   "outputs": [],
   "source": []
  },
  {
   "cell_type": "code",
   "execution_count": null,
   "id": "ca161564-cc5d-4eb6-adde-d94829328080",
   "metadata": {},
   "outputs": [],
   "source": [
    "# # number four i used intro_numpy notebook,mathematics foundations for data science notes pdf,linear algebra for data science Plus some little knowledge of mathematical c"
   ]
  }
 ],
 "metadata": {
  "kernelspec": {
   "display_name": "Python 3 (ipykernel)",
   "language": "python",
   "name": "python3"
  },
  "language_info": {
   "codemirror_mode": {
    "name": "ipython",
    "version": 3
   },
   "file_extension": ".py",
   "mimetype": "text/x-python",
   "name": "python",
   "nbconvert_exporter": "python",
   "pygments_lexer": "ipython3",
   "version": "3.12.6"
  }
 },
 "nbformat": 4,
 "nbformat_minor": 5
}
