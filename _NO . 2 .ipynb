{
 "cells": [
  {
   "cell_type": "markdown",
   "id": "d7a6bf88-574d-4504-97df-490cc68af5e9",
   "metadata": {},
   "source": [
    "# No . 2"
   ]
  },
  {
   "cell_type": "code",
   "execution_count": null,
   "id": "626e4b4b-59ca-4613-a253-63a19d85c8ab",
   "metadata": {},
   "outputs": [],
   "source": [
    "# Exploratory Data Analysis:"
   ]
  },
  {
   "cell_type": "code",
   "execution_count": 1,
   "id": "95cea2b2-0915-4517-ae38-4b9a7629984b",
   "metadata": {},
   "outputs": [],
   "source": [
    "import numpy as np"
   ]
  },
  {
   "cell_type": "code",
   "execution_count": 2,
   "id": "bf97a27a-e330-4d31-b1d7-f0acf957d36e",
   "metadata": {},
   "outputs": [],
   "source": [
    "import pandas as pd"
   ]
  },
  {
   "cell_type": "code",
   "execution_count": 3,
   "id": "e0e89481-327a-475e-9ad7-deba7dcfc064",
   "metadata": {},
   "outputs": [
    {
     "data": {
      "text/html": [
       "<div>\n",
       "<style scoped>\n",
       "    .dataframe tbody tr th:only-of-type {\n",
       "        vertical-align: middle;\n",
       "    }\n",
       "\n",
       "    .dataframe tbody tr th {\n",
       "        vertical-align: top;\n",
       "    }\n",
       "\n",
       "    .dataframe thead th {\n",
       "        text-align: right;\n",
       "    }\n",
       "</style>\n",
       "<table border=\"1\" class=\"dataframe\">\n",
       "  <thead>\n",
       "    <tr style=\"text-align: right;\">\n",
       "      <th></th>\n",
       "      <th>StudentID</th>\n",
       "      <th>Gender</th>\n",
       "      <th>Age</th>\n",
       "      <th>StudyHoursPerWeek</th>\n",
       "      <th>AttendanceRate</th>\n",
       "      <th>GPA</th>\n",
       "      <th>Major</th>\n",
       "      <th>PartTimeJob</th>\n",
       "      <th>ExtraCurricularActivities</th>\n",
       "    </tr>\n",
       "  </thead>\n",
       "  <tbody>\n",
       "    <tr>\n",
       "      <th>0</th>\n",
       "      <td>1</td>\n",
       "      <td>Male</td>\n",
       "      <td>24</td>\n",
       "      <td>37</td>\n",
       "      <td>90.75</td>\n",
       "      <td>3.47</td>\n",
       "      <td>Arts</td>\n",
       "      <td>Yes</td>\n",
       "      <td>No</td>\n",
       "    </tr>\n",
       "    <tr>\n",
       "      <th>1</th>\n",
       "      <td>2</td>\n",
       "      <td>Female</td>\n",
       "      <td>22</td>\n",
       "      <td>37</td>\n",
       "      <td>74.90</td>\n",
       "      <td>2.32</td>\n",
       "      <td>Education</td>\n",
       "      <td>No</td>\n",
       "      <td>No</td>\n",
       "    </tr>\n",
       "    <tr>\n",
       "      <th>2</th>\n",
       "      <td>3</td>\n",
       "      <td>Male</td>\n",
       "      <td>22</td>\n",
       "      <td>10</td>\n",
       "      <td>53.36</td>\n",
       "      <td>2.38</td>\n",
       "      <td>Business</td>\n",
       "      <td>No</td>\n",
       "      <td>No</td>\n",
       "    </tr>\n",
       "    <tr>\n",
       "      <th>3</th>\n",
       "      <td>4</td>\n",
       "      <td>Male</td>\n",
       "      <td>24</td>\n",
       "      <td>10</td>\n",
       "      <td>70.26</td>\n",
       "      <td>3.46</td>\n",
       "      <td>Science</td>\n",
       "      <td>Yes</td>\n",
       "      <td>No</td>\n",
       "    </tr>\n",
       "    <tr>\n",
       "      <th>4</th>\n",
       "      <td>5</td>\n",
       "      <td>Male</td>\n",
       "      <td>18</td>\n",
       "      <td>19</td>\n",
       "      <td>74.87</td>\n",
       "      <td>2.31</td>\n",
       "      <td>Education</td>\n",
       "      <td>Yes</td>\n",
       "      <td>No</td>\n",
       "    </tr>\n",
       "    <tr>\n",
       "      <th>...</th>\n",
       "      <td>...</td>\n",
       "      <td>...</td>\n",
       "      <td>...</td>\n",
       "      <td>...</td>\n",
       "      <td>...</td>\n",
       "      <td>...</td>\n",
       "      <td>...</td>\n",
       "      <td>...</td>\n",
       "      <td>...</td>\n",
       "    </tr>\n",
       "    <tr>\n",
       "      <th>495</th>\n",
       "      <td>496</td>\n",
       "      <td>Male</td>\n",
       "      <td>22</td>\n",
       "      <td>37</td>\n",
       "      <td>76.61</td>\n",
       "      <td>2.97</td>\n",
       "      <td>Science</td>\n",
       "      <td>No</td>\n",
       "      <td>No</td>\n",
       "    </tr>\n",
       "    <tr>\n",
       "      <th>496</th>\n",
       "      <td>497</td>\n",
       "      <td>Male</td>\n",
       "      <td>23</td>\n",
       "      <td>11</td>\n",
       "      <td>56.29</td>\n",
       "      <td>3.20</td>\n",
       "      <td>Science</td>\n",
       "      <td>No</td>\n",
       "      <td>No</td>\n",
       "    </tr>\n",
       "    <tr>\n",
       "      <th>497</th>\n",
       "      <td>498</td>\n",
       "      <td>Female</td>\n",
       "      <td>20</td>\n",
       "      <td>6</td>\n",
       "      <td>56.64</td>\n",
       "      <td>3.20</td>\n",
       "      <td>Science</td>\n",
       "      <td>No</td>\n",
       "      <td>Yes</td>\n",
       "    </tr>\n",
       "    <tr>\n",
       "      <th>498</th>\n",
       "      <td>499</td>\n",
       "      <td>Male</td>\n",
       "      <td>22</td>\n",
       "      <td>18</td>\n",
       "      <td>57.18</td>\n",
       "      <td>2.05</td>\n",
       "      <td>Business</td>\n",
       "      <td>No</td>\n",
       "      <td>Yes</td>\n",
       "    </tr>\n",
       "    <tr>\n",
       "      <th>499</th>\n",
       "      <td>500</td>\n",
       "      <td>Female</td>\n",
       "      <td>24</td>\n",
       "      <td>21</td>\n",
       "      <td>96.99</td>\n",
       "      <td>2.64</td>\n",
       "      <td>Engineering</td>\n",
       "      <td>No</td>\n",
       "      <td>No</td>\n",
       "    </tr>\n",
       "  </tbody>\n",
       "</table>\n",
       "<p>500 rows × 9 columns</p>\n",
       "</div>"
      ],
      "text/plain": [
       "     StudentID  Gender  Age  StudyHoursPerWeek  AttendanceRate   GPA  \\\n",
       "0            1    Male   24                 37           90.75  3.47   \n",
       "1            2  Female   22                 37           74.90  2.32   \n",
       "2            3    Male   22                 10           53.36  2.38   \n",
       "3            4    Male   24                 10           70.26  3.46   \n",
       "4            5    Male   18                 19           74.87  2.31   \n",
       "..         ...     ...  ...                ...             ...   ...   \n",
       "495        496    Male   22                 37           76.61  2.97   \n",
       "496        497    Male   23                 11           56.29  3.20   \n",
       "497        498  Female   20                  6           56.64  3.20   \n",
       "498        499    Male   22                 18           57.18  2.05   \n",
       "499        500  Female   24                 21           96.99  2.64   \n",
       "\n",
       "           Major PartTimeJob ExtraCurricularActivities  \n",
       "0           Arts         Yes                        No  \n",
       "1      Education          No                        No  \n",
       "2       Business          No                        No  \n",
       "3        Science         Yes                        No  \n",
       "4      Education         Yes                        No  \n",
       "..           ...         ...                       ...  \n",
       "495      Science          No                        No  \n",
       "496      Science          No                        No  \n",
       "497      Science          No                       Yes  \n",
       "498     Business          No                       Yes  \n",
       "499  Engineering          No                        No  \n",
       "\n",
       "[500 rows x 9 columns]"
      ]
     },
     "execution_count": 3,
     "metadata": {},
     "output_type": "execute_result"
    }
   ],
   "source": [
    "df = pd.read_csv('student_performance_data.csv')\n",
    "df"
   ]
  },
  {
   "cell_type": "code",
   "execution_count": 4,
   "id": "a2136d39-c51e-4344-9dd5-7cd186ff0985",
   "metadata": {},
   "outputs": [
    {
     "data": {
      "text/html": [
       "<div>\n",
       "<style scoped>\n",
       "    .dataframe tbody tr th:only-of-type {\n",
       "        vertical-align: middle;\n",
       "    }\n",
       "\n",
       "    .dataframe tbody tr th {\n",
       "        vertical-align: top;\n",
       "    }\n",
       "\n",
       "    .dataframe thead th {\n",
       "        text-align: right;\n",
       "    }\n",
       "</style>\n",
       "<table border=\"1\" class=\"dataframe\">\n",
       "  <thead>\n",
       "    <tr style=\"text-align: right;\">\n",
       "      <th></th>\n",
       "      <th>StudentID</th>\n",
       "      <th>Gender</th>\n",
       "      <th>Age</th>\n",
       "      <th>StudyHoursPerWeek</th>\n",
       "      <th>AttendanceRate</th>\n",
       "      <th>GPA</th>\n",
       "      <th>Major</th>\n",
       "      <th>PartTimeJob</th>\n",
       "      <th>ExtraCurricularActivities</th>\n",
       "    </tr>\n",
       "  </thead>\n",
       "  <tbody>\n",
       "    <tr>\n",
       "      <th>0</th>\n",
       "      <td>1</td>\n",
       "      <td>Male</td>\n",
       "      <td>24</td>\n",
       "      <td>37</td>\n",
       "      <td>90.75</td>\n",
       "      <td>3.47</td>\n",
       "      <td>Arts</td>\n",
       "      <td>Yes</td>\n",
       "      <td>No</td>\n",
       "    </tr>\n",
       "    <tr>\n",
       "      <th>1</th>\n",
       "      <td>2</td>\n",
       "      <td>Female</td>\n",
       "      <td>22</td>\n",
       "      <td>37</td>\n",
       "      <td>74.90</td>\n",
       "      <td>2.32</td>\n",
       "      <td>Education</td>\n",
       "      <td>No</td>\n",
       "      <td>No</td>\n",
       "    </tr>\n",
       "    <tr>\n",
       "      <th>2</th>\n",
       "      <td>3</td>\n",
       "      <td>Male</td>\n",
       "      <td>22</td>\n",
       "      <td>10</td>\n",
       "      <td>53.36</td>\n",
       "      <td>2.38</td>\n",
       "      <td>Business</td>\n",
       "      <td>No</td>\n",
       "      <td>No</td>\n",
       "    </tr>\n",
       "    <tr>\n",
       "      <th>3</th>\n",
       "      <td>4</td>\n",
       "      <td>Male</td>\n",
       "      <td>24</td>\n",
       "      <td>10</td>\n",
       "      <td>70.26</td>\n",
       "      <td>3.46</td>\n",
       "      <td>Science</td>\n",
       "      <td>Yes</td>\n",
       "      <td>No</td>\n",
       "    </tr>\n",
       "    <tr>\n",
       "      <th>4</th>\n",
       "      <td>5</td>\n",
       "      <td>Male</td>\n",
       "      <td>18</td>\n",
       "      <td>19</td>\n",
       "      <td>74.87</td>\n",
       "      <td>2.31</td>\n",
       "      <td>Education</td>\n",
       "      <td>Yes</td>\n",
       "      <td>No</td>\n",
       "    </tr>\n",
       "  </tbody>\n",
       "</table>\n",
       "</div>"
      ],
      "text/plain": [
       "   StudentID  Gender  Age  StudyHoursPerWeek  AttendanceRate   GPA      Major  \\\n",
       "0          1    Male   24                 37           90.75  3.47       Arts   \n",
       "1          2  Female   22                 37           74.90  2.32  Education   \n",
       "2          3    Male   22                 10           53.36  2.38   Business   \n",
       "3          4    Male   24                 10           70.26  3.46    Science   \n",
       "4          5    Male   18                 19           74.87  2.31  Education   \n",
       "\n",
       "  PartTimeJob ExtraCurricularActivities  \n",
       "0         Yes                        No  \n",
       "1          No                        No  \n",
       "2          No                        No  \n",
       "3         Yes                        No  \n",
       "4         Yes                        No  "
      ]
     },
     "execution_count": 4,
     "metadata": {},
     "output_type": "execute_result"
    }
   ],
   "source": [
    "df.head()"
   ]
  },
  {
   "cell_type": "code",
   "execution_count": 5,
   "id": "1a2db980-0a8b-4706-a72c-70911932757d",
   "metadata": {},
   "outputs": [
    {
     "data": {
      "text/html": [
       "<div>\n",
       "<style scoped>\n",
       "    .dataframe tbody tr th:only-of-type {\n",
       "        vertical-align: middle;\n",
       "    }\n",
       "\n",
       "    .dataframe tbody tr th {\n",
       "        vertical-align: top;\n",
       "    }\n",
       "\n",
       "    .dataframe thead th {\n",
       "        text-align: right;\n",
       "    }\n",
       "</style>\n",
       "<table border=\"1\" class=\"dataframe\">\n",
       "  <thead>\n",
       "    <tr style=\"text-align: right;\">\n",
       "      <th></th>\n",
       "      <th>StudentID</th>\n",
       "      <th>Gender</th>\n",
       "      <th>Age</th>\n",
       "      <th>StudyHoursPerWeek</th>\n",
       "      <th>AttendanceRate</th>\n",
       "      <th>GPA</th>\n",
       "      <th>Major</th>\n",
       "      <th>PartTimeJob</th>\n",
       "      <th>ExtraCurricularActivities</th>\n",
       "    </tr>\n",
       "  </thead>\n",
       "  <tbody>\n",
       "    <tr>\n",
       "      <th>495</th>\n",
       "      <td>496</td>\n",
       "      <td>Male</td>\n",
       "      <td>22</td>\n",
       "      <td>37</td>\n",
       "      <td>76.61</td>\n",
       "      <td>2.97</td>\n",
       "      <td>Science</td>\n",
       "      <td>No</td>\n",
       "      <td>No</td>\n",
       "    </tr>\n",
       "    <tr>\n",
       "      <th>496</th>\n",
       "      <td>497</td>\n",
       "      <td>Male</td>\n",
       "      <td>23</td>\n",
       "      <td>11</td>\n",
       "      <td>56.29</td>\n",
       "      <td>3.20</td>\n",
       "      <td>Science</td>\n",
       "      <td>No</td>\n",
       "      <td>No</td>\n",
       "    </tr>\n",
       "    <tr>\n",
       "      <th>497</th>\n",
       "      <td>498</td>\n",
       "      <td>Female</td>\n",
       "      <td>20</td>\n",
       "      <td>6</td>\n",
       "      <td>56.64</td>\n",
       "      <td>3.20</td>\n",
       "      <td>Science</td>\n",
       "      <td>No</td>\n",
       "      <td>Yes</td>\n",
       "    </tr>\n",
       "    <tr>\n",
       "      <th>498</th>\n",
       "      <td>499</td>\n",
       "      <td>Male</td>\n",
       "      <td>22</td>\n",
       "      <td>18</td>\n",
       "      <td>57.18</td>\n",
       "      <td>2.05</td>\n",
       "      <td>Business</td>\n",
       "      <td>No</td>\n",
       "      <td>Yes</td>\n",
       "    </tr>\n",
       "    <tr>\n",
       "      <th>499</th>\n",
       "      <td>500</td>\n",
       "      <td>Female</td>\n",
       "      <td>24</td>\n",
       "      <td>21</td>\n",
       "      <td>96.99</td>\n",
       "      <td>2.64</td>\n",
       "      <td>Engineering</td>\n",
       "      <td>No</td>\n",
       "      <td>No</td>\n",
       "    </tr>\n",
       "  </tbody>\n",
       "</table>\n",
       "</div>"
      ],
      "text/plain": [
       "     StudentID  Gender  Age  StudyHoursPerWeek  AttendanceRate   GPA  \\\n",
       "495        496    Male   22                 37           76.61  2.97   \n",
       "496        497    Male   23                 11           56.29  3.20   \n",
       "497        498  Female   20                  6           56.64  3.20   \n",
       "498        499    Male   22                 18           57.18  2.05   \n",
       "499        500  Female   24                 21           96.99  2.64   \n",
       "\n",
       "           Major PartTimeJob ExtraCurricularActivities  \n",
       "495      Science          No                        No  \n",
       "496      Science          No                        No  \n",
       "497      Science          No                       Yes  \n",
       "498     Business          No                       Yes  \n",
       "499  Engineering          No                        No  "
      ]
     },
     "execution_count": 5,
     "metadata": {},
     "output_type": "execute_result"
    }
   ],
   "source": [
    "df.tail()"
   ]
  },
  {
   "cell_type": "code",
   "execution_count": 6,
   "id": "96105c55-382d-4e94-979f-8f845a8ac11f",
   "metadata": {},
   "outputs": [],
   "source": [
    "# a) For each gender, which major has the highest total study hours per week?"
   ]
  },
  {
   "cell_type": "code",
   "execution_count": 7,
   "id": "c3a82cf9-ec8e-4cf8-a514-9c09584345f3",
   "metadata": {},
   "outputs": [
    {
     "name": "stdout",
     "output_type": "stream",
     "text": [
      "Gender\n",
      "Female    (Female, Business)\n",
      "Male       (Male, Education)\n",
      "Name: StudyHoursPerWeek, dtype: object\n"
     ]
    }
   ],
   "source": [
    "StudyHoursPerWeek_by_Major = df.groupby(['Gender', 'Major'])['StudyHoursPerWeek'].sum()\n",
    "print(StudyHoursPerWeek_by_Major.groupby('Gender').idxmax())"
   ]
  },
  {
   "cell_type": "code",
   "execution_count": null,
   "id": "02f5958d-1781-4d7a-8467-fa6591d7fb27",
   "metadata": {},
   "outputs": [],
   "source": []
  },
  {
   "cell_type": "code",
   "execution_count": 8,
   "id": "e58c73e3-a318-4e1b-b354-19d94951bcb2",
   "metadata": {},
   "outputs": [],
   "source": [
    "# b) Which gender has the highest overall average attendance rate? Return the gender and the average\n",
    "#    attendance rate?"
   ]
  },
  {
   "cell_type": "code",
   "execution_count": 17,
   "id": "55d87987-4f12-4aa8-9319-f7055bc653a2",
   "metadata": {},
   "outputs": [
    {
     "name": "stdout",
     "output_type": "stream",
     "text": [
      "Female has the highest gender attendance with an attendance rate of 75.926.\n"
     ]
    }
   ],
   "source": [
    "gender_average_attendance = df.groupby('Gender')['AttendanceRate'].mean().reset_index() \n",
    "# Grouping the columns needed for the question and getting its average\n",
    "higher_gender_attendance = gender_average_attendance.loc[gender_average_attendance['AttendanceRate'].idxmax()]\n",
    "# the row with the highest attendance rate using idxmax\n",
    "print(f\"{higher_gender_attendance ['Gender']} has the highest gender attendance with an attendance rate of {higher_gender_attendance ['AttendanceRate']:.3f}.\")"
   ]
  },
  {
   "cell_type": "code",
   "execution_count": null,
   "id": "3a14c949-fbe2-49db-9cb6-ae8c69783662",
   "metadata": {},
   "outputs": [],
   "source": []
  },
  {
   "cell_type": "code",
   "execution_count": 18,
   "id": "2863e347-f357-4c42-bcc2-8469f60aaef4",
   "metadata": {},
   "outputs": [],
   "source": [
    "# c) What percentage of students have part-time jobs, and what percentage have no part-time jobs?"
   ]
  },
  {
   "cell_type": "code",
   "execution_count": 19,
   "id": "9d71d98b-7aa0-4a1a-a398-7e2dace2721b",
   "metadata": {},
   "outputs": [
    {
     "name": "stdout",
     "output_type": "stream",
     "text": [
      "PartTimeJob\n",
      "Yes    53.6\n",
      "No     46.4\n",
      "Name: proportion, dtype: float64\n"
     ]
    }
   ],
   "source": [
    "job_counts = df['PartTimeJob'].value_counts(normalize=True) * 100\n",
    "print(job_counts)"
   ]
  },
  {
   "cell_type": "code",
   "execution_count": null,
   "id": "5af83b5e-0e03-4865-b041-c93113ac692c",
   "metadata": {},
   "outputs": [],
   "source": []
  },
  {
   "cell_type": "code",
   "execution_count": 20,
   "id": "5c84b5c7-9887-4ee1-b181-93be0b27aaa9",
   "metadata": {},
   "outputs": [],
   "source": [
    "# d) For each gender, what is the mean GPA and variance of age? ("
   ]
  },
  {
   "cell_type": "code",
   "execution_count": 24,
   "id": "9fd94737-66eb-44bd-8036-0ab80a422a5c",
   "metadata": {},
   "outputs": [
    {
     "name": "stdout",
     "output_type": "stream",
     "text": [
      "             GPA       Age\n",
      "Gender                    \n",
      "Female  2.995352  4.005637\n",
      "Male    2.974467  3.960130\n"
     ]
    }
   ],
   "source": [
    "gender= df.groupby('Gender').agg({'GPA': 'mean', 'Age': 'var'})\n",
    "print(gender)"
   ]
  },
  {
   "cell_type": "code",
   "execution_count": null,
   "id": "1ff8b419-3778-4b24-9624-920182676091",
   "metadata": {},
   "outputs": [],
   "source": []
  },
  {
   "cell_type": "code",
   "execution_count": 25,
   "id": "475081d8-f27a-4415-93de-bd0396d0be09",
   "metadata": {},
   "outputs": [],
   "source": [
    "# e) Create a visualization that effectively shows if there is a relationship between any two variables\n",
    "#    of your choice. Your answer must be given in a single pipe."
   ]
  },
  {
   "cell_type": "code",
   "execution_count": 27,
   "id": "3b983959-fed8-45d3-8c30-220bfd557f4f",
   "metadata": {},
   "outputs": [],
   "source": [
    "import seaborn as sns"
   ]
  },
  {
   "cell_type": "code",
   "execution_count": 30,
   "id": "15f5f4cc-bc22-4781-a4d6-53076c31e01f",
   "metadata": {},
   "outputs": [
    {
     "data": {
      "text/plain": [
       "<seaborn.axisgrid.FacetGrid at 0x26f26045f70>"
      ]
     },
     "execution_count": 30,
     "metadata": {},
     "output_type": "execute_result"
    },
    {
     "data": {
      "image/png": "[encoded data removed]",
      "text/plain": [
       "<Figure size 600.25x500 with 1 Axes>"
      ]
     },
     "metadata": {},
     "output_type": "display_data"
    }
   ],
   "source": [
    "sns.lmplot(x='StudyHoursPerWeek', y='GPA', hue='Gender', data=df)"
   ]
  },
  {
   "cell_type": "code",
   "execution_count": null,
   "id": "0ccf2387-9f3a-491c-b489-9ff19d471c8c",
   "metadata": {},
   "outputs": [],
   "source": []
  }
 ],
 "metadata": {
  "kernelspec": {
   "display_name": "Python 3 (ipykernel)",
   "language": "python",
   "name": "python3"
  },
  "language_info": {
   "codemirror_mode": {
    "name": "ipython",
    "version": 3
   },
   "file_extension": ".py",
   "mimetype": "text/x-python",
   "name": "python",
   "nbconvert_exporter": "python",
   "pygments_lexer": "ipython3",
   "version": "3.12.6"
  }
 },
 "nbformat": 4,
 "nbformat_minor": 5
}
